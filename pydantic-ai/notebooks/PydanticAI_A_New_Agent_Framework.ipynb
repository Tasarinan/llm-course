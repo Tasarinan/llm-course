{
  "cells": [
    {
      "cell_type": "markdown",
      "metadata": {
        "id": "w66Ao3_gPTa3"
      },
      "source": [
        "<p align = \"center\" draggable=”false” ><img src=\"https://github.com/AI-Maker-Space/LLM-Dev-101/assets/37101144/d1343317-fa2f-41e1-8af1-1dbb18399719\"\n",
        "     width=\"200px\"\n",
        "     height=\"auto\"/>\n",
        "</p>\n",
        "\n",
        "<h1 align=\"center\" id=\"heading\">AI Makerspace: Pydantic AI Event</h1>\n",
        "\n",
        "In this event, we'll be building a joke generator using the Pydantic AI framework!\n",
        "\n",
        "The Pydantic AI framework is a new way to build agents based on Pydantics previous works on data validation and data models.\n",
        "\n",
        "We'll start with our dependencies:"
      ]
    },
    {
      "cell_type": "code",
      "execution_count": null,
      "metadata": {
        "colab": {
          "base_uri": "https://localhost:8080/"
        },
        "id": "6tJXXr3X7jq9",
        "outputId": "886fe466-ea12-4b4a-b7fb-5ee12efeee19"
      },
      "outputs": [
        {
          "output_type": "stream",
          "name": "stdout",
          "text": [
            "\u001b[?25l   \u001b[90m━━━━━━━━━━━━━━━━━━━━━━━━━━━━━━━━━━━━━━━━\u001b[0m \u001b[32m0.0/123.5 kB\u001b[0m \u001b[31m?\u001b[0m eta \u001b[36m-:--:--\u001b[0m\r\u001b[2K   \u001b[90m━━━━━━━━━━━━━━━━━━━━━━━━━━━━━━━━━━━━━━━━\u001b[0m \u001b[32m123.5/123.5 kB\u001b[0m \u001b[31m5.5 MB/s\u001b[0m eta \u001b[36m0:00:00\u001b[0m\n",
            "\u001b[2K   \u001b[90m━━━━━━━━━━━━━━━━━━━━━━━━━━━━━━━━━━━━━━━━\u001b[0m \u001b[32m182.3/182.3 kB\u001b[0m \u001b[31m10.8 MB/s\u001b[0m eta \u001b[36m0:00:00\u001b[0m\n",
            "\u001b[2K   \u001b[90m━━━━━━━━━━━━━━━━━━━━━━━━━━━━━━━━━━━━━━━━\u001b[0m \u001b[32m55.9/55.9 kB\u001b[0m \u001b[31m3.7 MB/s\u001b[0m eta \u001b[36m0:00:00\u001b[0m\n",
            "\u001b[2K   \u001b[90m━━━━━━━━━━━━━━━━━━━━━━━━━━━━━━━━━━━━━━━━\u001b[0m \u001b[32m177.4/177.4 kB\u001b[0m \u001b[31m12.8 MB/s\u001b[0m eta \u001b[36m0:00:00\u001b[0m\n",
            "\u001b[2K   \u001b[90m━━━━━━━━━━━━━━━━━━━━━━━━━━━━━━━━━━━━━━━━\u001b[0m \u001b[32m65.0/65.0 kB\u001b[0m \u001b[31m4.0 MB/s\u001b[0m eta \u001b[36m0:00:00\u001b[0m\n",
            "\u001b[2K   \u001b[90m━━━━━━━━━━━━━━━━━━━━━━━━━━━━━━━━━━━━━━━━\u001b[0m \u001b[32m118.7/118.7 kB\u001b[0m \u001b[31m9.1 MB/s\u001b[0m eta \u001b[36m0:00:00\u001b[0m\n",
            "\u001b[2K   \u001b[90m━━━━━━━━━━━━━━━━━━━━━━━━━━━━━━━━━━━━━━━━\u001b[0m \u001b[32m319.7/319.7 kB\u001b[0m \u001b[31m16.7 MB/s\u001b[0m eta \u001b[36m0:00:00\u001b[0m\n",
            "\u001b[2K   \u001b[90m━━━━━━━━━━━━━━━━━━━━━━━━━━━━━━━━━━━━━━━━\u001b[0m \u001b[32m243.4/243.4 kB\u001b[0m \u001b[31m16.0 MB/s\u001b[0m eta \u001b[36m0:00:00\u001b[0m\n",
            "\u001b[2K   \u001b[90m━━━━━━━━━━━━━━━━━━━━━━━━━━━━━━━━━━━━━━━━\u001b[0m \u001b[32m43.6/43.6 kB\u001b[0m \u001b[31m2.8 MB/s\u001b[0m eta \u001b[36m0:00:00\u001b[0m\n",
            "\u001b[2K   \u001b[90m━━━━━━━━━━━━━━━━━━━━━━━━━━━━━━━━━━━━━━━━\u001b[0m \u001b[32m253.9/253.9 kB\u001b[0m \u001b[31m13.3 MB/s\u001b[0m eta \u001b[36m0:00:00\u001b[0m\n",
            "\u001b[2K   \u001b[90m━━━━━━━━━━━━━━━━━━━━━━━━━━━━━━━━━━━━━━━━\u001b[0m \u001b[32m128.5/128.5 kB\u001b[0m \u001b[31m8.9 MB/s\u001b[0m eta \u001b[36m0:00:00\u001b[0m\n",
            "\u001b[2K   \u001b[90m━━━━━━━━━━━━━━━━━━━━━━━━━━━━━━━━━━━━━━━━\u001b[0m \u001b[32m121.9/121.9 kB\u001b[0m \u001b[31m8.1 MB/s\u001b[0m eta \u001b[36m0:00:00\u001b[0m\n",
            "\u001b[2K   \u001b[90m━━━━━━━━━━━━━━━━━━━━━━━━━━━━━━━━━━━━━━━━\u001b[0m \u001b[32m271.6/271.6 kB\u001b[0m \u001b[31m14.3 MB/s\u001b[0m eta \u001b[36m0:00:00\u001b[0m\n",
            "\u001b[2K   \u001b[90m━━━━━━━━━━━━━━━━━━━━━━━━━━━━━━━━━━━━━━━━\u001b[0m \u001b[32m472.8/472.8 kB\u001b[0m \u001b[31m23.3 MB/s\u001b[0m eta \u001b[36m0:00:00\u001b[0m\n",
            "\u001b[2K   \u001b[90m━━━━━━━━━━━━━━━━━━━━━━━━━━━━━━━━━━━━━━━━\u001b[0m \u001b[32m3.3/3.3 MB\u001b[0m \u001b[31m44.4 MB/s\u001b[0m eta \u001b[36m0:00:00\u001b[0m\n",
            "\u001b[2K   \u001b[90m━━━━━━━━━━━━━━━━━━━━━━━━━━━━━━━━━━━━━━━━\u001b[0m \u001b[32m75.6/75.6 kB\u001b[0m \u001b[31m4.1 MB/s\u001b[0m eta \u001b[36m0:00:00\u001b[0m\n",
            "\u001b[?25h"
          ]
        }
      ],
      "source": [
        "!pip install -qU pydantic-ai logfire devtools"
      ]
    },
    {
      "cell_type": "markdown",
      "metadata": {
        "id": "eR7EHUoSPTa4"
      },
      "source": [
        "We're going to need a few API keys for this example:\n",
        "\n",
        "We're going to leverage the new \"best vibe\" agent for determining if the jokes are hilarious - and Claude 3.7 Sonnet for generating some initial jokes."
      ]
    },
    {
      "cell_type": "code",
      "execution_count": null,
      "metadata": {
        "colab": {
          "base_uri": "https://localhost:8080/"
        },
        "id": "O6Fx09gV-Hbw",
        "outputId": "2e01273d-8171-43fa-970d-29618bb8d709"
      },
      "outputs": [
        {
          "name": "stdout",
          "output_type": "stream",
          "text": [
            "OpenAI API Key:··········\n",
            "LOGFIRE API Key:··········\n",
            "Anthropic API Key:··········\n"
          ]
        }
      ],
      "source": [
        "import os\n",
        "import getpass\n",
        "\n",
        "os.environ['OPENAI_API_KEY'] = getpass.getpass('OpenAI API Key:')\n",
        "os.environ['LOGFIRE_API_KEY'] = getpass.getpass('LOGFIRE API Key:')\n",
        "os.environ[\"ANTHROPIC_API_KEY\"] = getpass.getpass('Anthropic API Key:')"
      ]
    },
    {
      "cell_type": "markdown",
      "metadata": {
        "id": "yuCi8drrPTa5"
      },
      "source": [
        "Becuase we're in the notebook, we'll need to nest asyncio to run our code."
      ]
    },
    {
      "cell_type": "code",
      "execution_count": null,
      "metadata": {
        "id": "UsGFUXAF-2m7"
      },
      "outputs": [],
      "source": [
        "import nest_asyncio\n",
        "nest_asyncio.apply()"
      ]
    },
    {
      "cell_type": "markdown",
      "metadata": {
        "id": "MOS8Hc3iPTa5"
      },
      "source": [
        "BIG WALL OF IMPORT STATEMENTS!"
      ]
    },
    {
      "cell_type": "code",
      "execution_count": null,
      "metadata": {
        "id": "yV7QNACmBSG_"
      },
      "outputs": [],
      "source": [
        "from __future__ import annotations as _annotations\n",
        "\n",
        "from dataclasses import dataclass, field\n",
        "from pathlib import Path\n",
        "from typing import Annotated\n",
        "\n",
        "import logfire\n",
        "from devtools import debug\n",
        "from pydantic_graph import BaseNode, Edge, End, Graph, GraphRunContext, HistoryStep\n",
        "\n",
        "from pydantic_ai import Agent\n",
        "from pydantic_ai.format_as_xml import format_as_xml\n",
        "from pydantic_ai.messages import ModelMessage"
      ]
    },
    {
      "cell_type": "markdown",
      "metadata": {
        "id": "4Z1D11hCPTa5"
      },
      "source": [
        "We'll be using Logfire to track our events!\n",
        "\n",
        "You can sign up for a free account at https://pydantic.dev/logfire!"
      ]
    },
    {
      "cell_type": "code",
      "execution_count": null,
      "metadata": {
        "colab": {
          "base_uri": "https://localhost:8080/"
        },
        "id": "W5k00s3rB6q6",
        "outputId": "96e08417-1b5b-4dc2-dffc-ffb987dd3b68"
      },
      "outputs": [
        {
          "output_type": "execute_result",
          "data": {
            "text/plain": [
              "<logfire._internal.main.Logfire at 0x7afb66e25190>"
            ]
          },
          "metadata": {},
          "execution_count": 7
        }
      ],
      "source": [
        "logfire.configure(token=os.environ[\"LOGFIRE_API_KEY\"])"
      ]
    },
    {
      "cell_type": "markdown",
      "metadata": {
        "id": "ENHrg3oGPTa5"
      },
      "source": [
        "## Building our Agents!\n",
        "\n",
        "In order to build a multi-agent joke generator, we'll need to build a couple of agents.\n",
        "\n",
        "We'll start with our \"Joke Generator\" agent.\n",
        "\n",
        "> NOTE: The \"instrument=True\" is important here. This will allow us to track the events in Logfire."
      ]
    },
    {
      "cell_type": "code",
      "execution_count": null,
      "metadata": {
        "id": "x1cmzSdiCAem"
      },
      "outputs": [],
      "source": [
        "joke_generator_agent = Agent(\n",
        "    \"anthropic:claude-3-7-sonnet-latest\",\n",
        "    result_type=str,\n",
        "    instrument=True\n",
        ")"
      ]
    },
    {
      "cell_type": "markdown",
      "metadata": {
        "id": "-Pu_wr6sPTa5"
      },
      "source": [
        "Then, similar to other agent frameworks, we'll want to define our state.\n",
        "\n",
        "> NOTE: We'll limit ourselves to 5 attempts to generate a joke, just in case Claude is having an off day."
      ]
    },
    {
      "cell_type": "code",
      "execution_count": null,
      "metadata": {
        "id": "p2L3SMffCMJl"
      },
      "outputs": [],
      "source": [
        "@dataclass\n",
        "class JokeState:\n",
        "    joke: str | None = None\n",
        "    joke_generator_agent_messages: list[ModelMessage] = field(default_factory=list)\n",
        "    evaluate_agent_messages: list[ModelMessage] = field(default_factory=list)\n",
        "    attempts: int = 0\n",
        "    max_attempts: int = 5"
      ]
    },
    {
      "cell_type": "markdown",
      "metadata": {
        "id": "H46YpQEfPTa6"
      },
      "source": [
        "Next, we'll set up of our \"Joke Generator\" agent, which will be responsible both for generating jokes, and for incorporating feedback into the joke generation process.\n",
        "\n",
        "Our JokeGenerator will take our BaseNode with our JokeState, and will return an Evaluate node.\n",
        "\n",
        "This is the way we can produce our graph! We can effectively chain together our nodes to produce a graph - including, as we'll see, conditional logic - just like in LangGraph!"
      ]
    },
    {
      "cell_type": "code",
      "execution_count": null,
      "metadata": {
        "id": "sbsM-OolCPZs"
      },
      "outputs": [],
      "source": [
        "@dataclass\n",
        "class JokeGenerator(BaseNode[JokeState]):\n",
        "    feedback: str | None = None\n",
        "\n",
        "    async def run(self, ctx: GraphRunContext[JokeState]) -> Evaluate:\n",
        "        ctx.state.attempts += 1\n",
        "\n",
        "        prompt = 'Make up a joke about cats. It should be both dope, and funny.'\n",
        "\n",
        "        if self.feedback:\n",
        "            prompt = f\"\"\"Make up a joke about cats. It should be both dope, and funny.\n",
        "\n",
        "Previous attempt: {ctx.state.joke}\n",
        "\n",
        "Feedback on previous attempt: {self.feedback}\n",
        "\n",
        "Please create a new joke that addresses this feedback.\"\"\"\n",
        "\n",
        "        result = await joke_generator_agent.run(\n",
        "            prompt,\n",
        "            message_history=ctx.state.joke_generator_agent_messages,\n",
        "        )\n",
        "        ctx.state.joke_generator_agent_messages += result.all_messages()\n",
        "        ctx.state.joke = result.data\n",
        "\n",
        "        return Evaluate()"
      ]
    },
    {
      "cell_type": "markdown",
      "metadata": {
        "id": "-1cv418VPTa6"
      },
      "source": [
        "Next, we can produce another node which will be responsible for kicking off our evaluation process."
      ]
    },
    {
      "cell_type": "code",
      "execution_count": null,
      "metadata": {
        "id": "wAwjq2W1CRAc"
      },
      "outputs": [],
      "source": [
        "@dataclass\n",
        "class ProducedJoke(BaseNode[JokeState]):\n",
        "    joke: str | None = None\n",
        "\n",
        "    async def run(self, ctx: GraphRunContext[JokeState]) -> Evaluate:\n",
        "        assert self.joke is not None\n",
        "        return Evaluate(self.joke)"
      ]
    },
    {
      "cell_type": "markdown",
      "metadata": {
        "id": "5no8z5wZPTa6"
      },
      "source": [
        "We'll need to create some Evaluation state, which will help the LLM determine how to respond."
      ]
    },
    {
      "cell_type": "code",
      "execution_count": null,
      "metadata": {
        "id": "fSUtLjMUCTHO"
      },
      "outputs": [],
      "source": [
        "@dataclass\n",
        "class EvaluationResult:\n",
        "    dope: bool\n",
        "    funny: bool\n",
        "    comment: str"
      ]
    },
    {
      "cell_type": "markdown",
      "metadata": {
        "id": "Irkt7E1XPTa6"
      },
      "source": [
        "Our evaluation agent will be a GPT-4.5 preview model, which will be responsible for evaluating the joke. We're using this model because, while it's not great at reasoning, it's great at being funny!"
      ]
    },
    {
      "cell_type": "code",
      "execution_count": null,
      "metadata": {
        "id": "PPIc3VKSCVJK"
      },
      "outputs": [],
      "source": [
        "evaluate_agent = Agent(\n",
        "    'openai:gpt-4.5-preview',\n",
        "    result_type=EvaluationResult,\n",
        "    system_prompt='Given a joke, evaluate if the joke is dope, or nope - also evaluate if the joke is funny. It needs to be *really* good. Suggest improvements on the joke if it is not.',\n",
        ")"
      ]
    },
    {
      "cell_type": "markdown",
      "metadata": {
        "id": "IJfhIP3DPTa6"
      },
      "source": [
        "Now we'll create our Evaluate node.\n",
        "\n",
        "Notice how we're returning a Congratulate or Reprimand node, depending on the evaluation - this is how we add complexity to our graph."
      ]
    },
    {
      "cell_type": "code",
      "execution_count": null,
      "metadata": {
        "id": "0ZkG-GuqC1oF"
      },
      "outputs": [],
      "source": [
        "@dataclass\n",
        "class Evaluate(BaseNode[JokeState]):\n",
        "    async def run(\n",
        "        self,\n",
        "        ctx: GraphRunContext[JokeState],\n",
        "    ) -> Congratulate | Reprimand | End:\n",
        "        assert ctx.state.joke is not None\n",
        "\n",
        "        result = await evaluate_agent.run(\n",
        "            format_as_xml({'joke': ctx.state.joke}),\n",
        "            message_history=ctx.state.evaluate_agent_messages,\n",
        "        )\n",
        "        ctx.state.evaluate_agent_messages += result.all_messages()\n",
        "\n",
        "        if ctx.state.attempts >= ctx.state.max_attempts:\n",
        "            print(f\"Reached maximum attempts ({ctx.state.max_attempts}). Best joke so far: {ctx.state.joke}\")\n",
        "            print(f\"Final feedback: {result.data.comment}\")\n",
        "            return End(None)\n",
        "\n",
        "        if result.data.funny and result.data.dope:\n",
        "            return Congratulate(result.data.comment)\n",
        "        else:\n",
        "            return Reprimand(result.data.comment)"
      ]
    },
    {
      "cell_type": "markdown",
      "metadata": {
        "id": "qYwjMsjxPTa6"
      },
      "source": [
        "Next, we'll create our Congratulate and Reprimand nodes.\n",
        "\n",
        "These are our \"success\" and \"failure\" states - they'll be used to determine the next node in our graph.\n",
        "\n",
        "`End` if the joke is good."
      ]
    },
    {
      "cell_type": "code",
      "execution_count": null,
      "metadata": {
        "id": "XcJ5fzdDC3_-"
      },
      "outputs": [],
      "source": [
        "@dataclass\n",
        "class Congratulate(BaseNode[JokeState, None, None]):\n",
        "    comment: str\n",
        "\n",
        "    async def run(\n",
        "        self, ctx: GraphRunContext[JokeState]\n",
        "    ) -> Annotated[End, Edge(label='success')]:\n",
        "        print(f'Found a funny and dope joke after {ctx.state.attempts} attempts!')\n",
        "        print(f'Joke: {ctx.state.joke}')\n",
        "        print(f'Feedback: {self.comment}')\n",
        "        return End(None)"
      ]
    },
    {
      "cell_type": "markdown",
      "metadata": {
        "id": "GPghk0ZAPTa6"
      },
      "source": [
        "`Reprimand` if the joke needs improvement."
      ]
    },
    {
      "cell_type": "code",
      "execution_count": null,
      "metadata": {
        "id": "Utvgro03C6p_"
      },
      "outputs": [],
      "source": [
        "@dataclass\n",
        "class Reprimand(BaseNode[JokeState]):\n",
        "    comment: str\n",
        "\n",
        "    async def run(self, ctx: GraphRunContext[JokeState]) -> JokeGenerator:\n",
        "        print(f'Attempt {ctx.state.attempts}: {ctx.state.joke}')\n",
        "        print(f'Feedback: {self.comment}')\n",
        "        return JokeGenerator(feedback=self.comment)"
      ]
    },
    {
      "cell_type": "markdown",
      "metadata": {
        "id": "884L6WvLPTa6"
      },
      "source": [
        "Finally, we'll create our graph!\n",
        "\n",
        "Notice that we can just plop the nodes in, as we define their connections in each node."
      ]
    },
    {
      "cell_type": "code",
      "execution_count": null,
      "metadata": {
        "id": "42ZbEFq7C-lz"
      },
      "outputs": [],
      "source": [
        "question_graph = Graph(\n",
        "    nodes=(JokeGenerator, Evaluate, Congratulate, Reprimand), state_type=JokeState\n",
        ")"
      ]
    },
    {
      "cell_type": "code",
      "source": [
        "from IPython.display import Image, display\n",
        "\n",
        "display(Image(question_graph.mermaid_image(start_node=JokeGenerator)))"
      ],
      "metadata": {
        "colab": {
          "base_uri": "https://localhost:8080/",
          "height": 454
        },
        "id": "zrEH5XYMdLiR",
        "outputId": "f4dc6ca3-7c6e-4e92-ac2c-a8037d8ca3ae"
      },
      "execution_count": null,
      "outputs": [
        {
          "output_type": "display_data",
          "data": {
            "image/jpeg": "[encoded data removed]",
            "text/plain": [
              "<IPython.core.display.Image object>"
            ]
          },
          "metadata": {}
        }
      ]
    },
    {
      "cell_type": "markdown",
      "metadata": {
        "id": "BzG5KBq6PTa6"
      },
      "source": [
        "Finally, we can run our graph - it's as easy as running the next node in a while loop until we hit our `End` node!"
      ]
    },
    {
      "cell_type": "code",
      "execution_count": null,
      "metadata": {
        "id": "jKx-uwvdDCFq",
        "colab": {
          "base_uri": "https://localhost:8080/"
        },
        "outputId": "fe827a18-1336-4461-bfb4-7ddac60c14af"
      },
      "outputs": [
        {
          "output_type": "stream",
          "name": "stdout",
          "text": [
            "17:01:41.549 run automated joke generator\n",
            "17:01:41.550   run node JokeGenerator\n",
            "17:01:41.551     joke_generator_agent run\n",
            "17:01:41.552       preparing model request params\n",
            "17:01:41.552       chat claude-3-7-sonnet-latest\n",
            "17:01:42.746   run node Evaluate\n",
            "17:01:46.711   run node Reprimand\n",
            "Attempt 1: Why did the cat become a famous DJ?\n",
            "\n",
            "Because they had the purrfect beats and always knew how to drop the meow-mix!\n",
            "Feedback: The joke is cute but lacks a punchy impact. Consider enhancing the punchline for a stronger comedic effect, perhaps by incorporating a playful twist related to DJ culture or music.\n",
            "17:01:46.712   run node JokeGenerator\n",
            "17:01:46.713     joke_generator_agent run\n",
            "17:01:46.714       preparing model request params\n",
            "17:01:46.714       chat claude-3-7-sonnet-latest\n",
            "17:01:48.090   run node Evaluate\n",
            "17:01:50.024   run node Congratulate\n",
            "Found a funny and dope joke after 2 attempts!\n",
            "Joke: What's a cat's favorite electronic music genre?\n",
            "\n",
            "Purr-step... they love those deep bass drops because it makes the mice drop too!\n",
            "Feedback: This joke cleverly combines cat humor with electronic music references effectively. Well done!\n",
            "<ipython-input-30-2d4302d6520b>:9 run_automated_joke_generator\n",
            "    [e.data_snapshot() for e in history]: [\n",
            "        JokeGenerator(\n",
            "            feedback=None,\n",
            "        ),\n",
            "        Evaluate(),\n",
            "        Reprimand(\n",
            "            comment=(\n",
            "                'The joke is cute but lacks a punchy impact. Consider enhancing the punchline for a stronger comedic e'\n",
            "                'ffect, perhaps by incorporating a playful twist related to DJ culture or music.'\n",
            "            ),\n",
            "        ),\n",
            "        JokeGenerator(\n",
            "            feedback=(\n",
            "                'The joke is cute but lacks a punchy impact. Consider enhancing the punchline for a stronger comedic e'\n",
            "                'ffect, perhaps by incorporating a playful twist related to DJ culture or music.'\n",
            "            ),\n",
            "        ),\n",
            "        Evaluate(),\n",
            "        Congratulate(\n",
            "            comment='This joke cleverly combines cat humor with electronic music references effectively. Well done!',\n",
            "        ),\n",
            "        End(\n",
            "            data=None,\n",
            "        ),\n",
            "    ] (list) len=7\n"
          ]
        }
      ],
      "source": [
        "async def run_automated_joke_generator():\n",
        "    state = JokeState()\n",
        "    node = JokeGenerator()\n",
        "    history: list[HistoryStep[JokeState, None]] = []\n",
        "    with logfire.span('run automated joke generator'):\n",
        "        while True:\n",
        "            node = await question_graph.next(node, history, state=state)\n",
        "            if isinstance(node, End):\n",
        "                debug([e.data_snapshot() for e in history])\n",
        "                break\n",
        "\n",
        "result = await run_automated_joke_generator()"
      ]
    }
  ],
  "metadata": {
    "colab": {
      "provenance": []
    },
    "kernelspec": {
      "display_name": ".venv",
      "language": "python",
      "name": "python3"
    },
    "language_info": {
      "codemirror_mode": {
        "name": "ipython",
        "version": 3
      },
      "file_extension": ".py",
      "mimetype": "text/x-python",
      "name": "python",
      "nbconvert_exporter": "python",
      "pygments_lexer": "ipython3",
      "version": "3.13.1"
    }
  },
  "nbformat": 4,
  "nbformat_minor": 0
}