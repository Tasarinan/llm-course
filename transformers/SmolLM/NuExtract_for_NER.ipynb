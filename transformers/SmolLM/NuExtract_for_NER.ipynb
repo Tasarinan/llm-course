{
  "nbformat": 4,
  "nbformat_minor": 0,
  "metadata": {
    "colab": {
      "provenance": []
    },
    "kernelspec": {
      "name": "python3",
      "display_name": "Python 3"
    },
    "language_info": {
      "name": "python"
    }
  },
  "cells": [
    {
      "cell_type": "code",
      "source": [
        "!pip install llama-cpp-python"
      ],
      "metadata": {
        "id": "XLtTQE20TxGz",
        "colab": {
          "base_uri": "https://localhost:8080/"
        },
        "outputId": "a5fc29dc-62f7-48c2-b6ed-02a6867821b7"
      },
      "execution_count": null,
      "outputs": [
        {
          "output_type": "stream",
          "name": "stdout",
          "text": [
            "Collecting llama-cpp-python\n",
            "  Downloading llama_cpp_python-0.3.1.tar.gz (63.9 MB)\n",
            "\u001b[2K     \u001b[90m━━━━━━━━━━━━━━━━━━━━━━━━━━━━━━━━━━━━━━━━\u001b[0m \u001b[32m63.9/63.9 MB\u001b[0m \u001b[31m7.7 MB/s\u001b[0m eta \u001b[36m0:00:00\u001b[0m\n",
            "\u001b[?25h  Installing build dependencies ... \u001b[?25l\u001b[?25hdone\n",
            "  Getting requirements to build wheel ... \u001b[?25l\u001b[?25hdone\n",
            "  Installing backend dependencies ... \u001b[?25l\u001b[?25hdone\n",
            "  Preparing metadata (pyproject.toml) ... \u001b[?25l\u001b[?25hdone\n",
            "Requirement already satisfied: typing-extensions>=4.5.0 in /usr/local/lib/python3.10/dist-packages (from llama-cpp-python) (4.12.2)\n",
            "Requirement already satisfied: numpy>=1.20.0 in /usr/local/lib/python3.10/dist-packages (from llama-cpp-python) (1.26.4)\n",
            "Collecting diskcache>=5.6.1 (from llama-cpp-python)\n",
            "  Downloading diskcache-5.6.3-py3-none-any.whl.metadata (20 kB)\n",
            "Requirement already satisfied: jinja2>=2.11.3 in /usr/local/lib/python3.10/dist-packages (from llama-cpp-python) (3.1.4)\n",
            "Requirement already satisfied: MarkupSafe>=2.0 in /usr/local/lib/python3.10/dist-packages (from jinja2>=2.11.3->llama-cpp-python) (3.0.2)\n",
            "Downloading diskcache-5.6.3-py3-none-any.whl (45 kB)\n",
            "\u001b[2K   \u001b[90m━━━━━━━━━━━━━━━━━━━━━━━━━━━━━━━━━━━━━━━━\u001b[0m \u001b[32m45.5/45.5 kB\u001b[0m \u001b[31m3.3 MB/s\u001b[0m eta \u001b[36m0:00:00\u001b[0m\n",
            "\u001b[?25hBuilding wheels for collected packages: llama-cpp-python\n",
            "  Building wheel for llama-cpp-python (pyproject.toml) ... \u001b[?25l\u001b[?25hdone\n",
            "  Created wheel for llama-cpp-python: filename=llama_cpp_python-0.3.1-cp310-cp310-linux_x86_64.whl size=3485348 sha256=25544ab17718afcc4d458a435f64e0e1403d5e6b1b21dc63a4c695d6a5c0d1ff\n",
            "  Stored in directory: /root/.cache/pip/wheels/f8/b0/a2/f47d952aec7ab061b9e2a345e23a1e1e137beb7891259e3d0c\n",
            "Successfully built llama-cpp-python\n",
            "Installing collected packages: diskcache, llama-cpp-python\n",
            "Successfully installed diskcache-5.6.3 llama-cpp-python-0.3.1\n"
          ]
        }
      ]
    },
    {
      "cell_type": "code",
      "source": [
        "from llama_cpp import Llama\n",
        "\n",
        "llm = Llama.from_pretrained(\n",
        "    repo_id=\"RichardErkhov/numind_-_NuExtract-tiny-v1.5-gguf\",\n",
        "    filename=\"*NuExtract-tiny-v1.5.Q5_K_M.gguf\",\n",
        "    verbose=False\n",
        ")"
      ],
      "metadata": {
        "id": "ynHxn9aRT3fL"
      },
      "execution_count": null,
      "outputs": []
    },
    {
      "cell_type": "code",
      "source": [
        "import json\n",
        "\n",
        "def predict(llm, texts, entities, batch_size=1, max_length=10_000, max_new_tokens=4_000):\n",
        "    # Create template dictionary with entities as keys and empty lists as values\n",
        "    template_dict = {entity: [] for entity in entities}\n",
        "\n",
        "    # Convert to JSON string with proper formatting\n",
        "    template = json.dumps(template_dict, indent=4)\n",
        "\n",
        "    # Create prompts using the template\n",
        "    prompts = [\n",
        "        f\"\"\"<|input|>\\n### Template:\\n{template}\\n### Text:\\n{text}\\n\\n<|output|>\"\"\"\n",
        "        for text in texts\n",
        "    ]\n",
        "\n",
        "    outputs = []\n",
        "    for i in range(0, len(prompts), batch_size):\n",
        "        output = llm(\n",
        "            prompts[i],\n",
        "            max_tokens=max_new_tokens,\n",
        "            echo=True\n",
        "        )\n",
        "        json_str = output[\"choices\"][0][\"text\"].split(\"<|output|>\")[1]\n",
        "        entities_dict = json.loads(json_str)\n",
        "        output_entities = []\n",
        "        for label, entities in entities_dict.items():\n",
        "            for entity in entities:\n",
        "                start = text.find(entity)\n",
        "                end = start + len(entity)\n",
        "                output_entities.append({\"label\": label, \"text\": entity, \"start\": start, \"end\": end})\n",
        "        outputs.append(output_entities)\n",
        "    return outputs\n",
        "\n",
        "text = \"\"\"Libretto by Marius Petipa, based on the 1822 novella \"Trilby, ou Le Lutin d'Argail\" by Charles Nodier, first presented by the Ballet of the Moscow Imperial Bolshoi Theatre on January 25/February 6 (Julian/Gregorian calendar dates), 1870, in Moscow with Polina Karpakova as Trilby and Ludiia Geiten as Miranda and restaged by Petipa for the Imperial Ballet at the Imperial Bolshoi Kamenny Theatre on January 17–29, 1871 in St. Petersburg with Adèle Grantzow as Trilby and Lev Ivanov as Count Leopold.\"\"\"\n",
        "entities = [\"person\", \"book\", \"location\", \"date\", \"male actor\", \"female actor\", \"character\"]\n",
        "predict(llm, [text], entities)\n"
      ],
      "metadata": {
        "colab": {
          "base_uri": "https://localhost:8080/"
        },
        "id": "hCCLKxXdW3Xm",
        "outputId": "e3131e8d-be82-4a5a-ea95-acd4f76201c6"
      },
      "execution_count": null,
      "outputs": [
        {
          "output_type": "execute_result",
          "data": {
            "text/plain": [
              "[[{'label': 'book',\n",
              "   'text': \"Trilby, ou Le Lutin d'Argail\",\n",
              "   'start': 54,\n",
              "   'end': 82},\n",
              "  {'label': 'location',\n",
              "   'text': 'Moscow Imperial Bolshoi Theatre',\n",
              "   'start': 140,\n",
              "   'end': 171},\n",
              "  {'label': 'location',\n",
              "   'text': 'St. Petersburg with Adèle Grantzow as Trilby',\n",
              "   'start': 422,\n",
              "   'end': 466},\n",
              "  {'label': 'location',\n",
              "   'text': 'Imperial Bolshoi Kamenny Theatre',\n",
              "   'start': 363,\n",
              "   'end': 395},\n",
              "  {'label': 'date', 'text': 'January 25/February 6', 'start': 175, 'end': 196},\n",
              "  {'label': 'date', 'text': 'January 17–29', 'start': 399, 'end': 412},\n",
              "  {'label': 'date', 'text': 'January 25/February 6', 'start': 175, 'end': 196},\n",
              "  {'label': 'date', 'text': 'January 25/February 6', 'start': 175, 'end': 196},\n",
              "  {'label': 'male actor',\n",
              "   'text': 'Polina Karpakova',\n",
              "   'start': 253,\n",
              "   'end': 269},\n",
              "  {'label': 'male actor', 'text': 'Ludiia Geiten', 'start': 284, 'end': 297},\n",
              "  {'label': 'female actor', 'text': 'Ad’e Grantzow', 'start': -1, 'end': 12},\n",
              "  {'label': 'female actor', 'text': 'Liu Ivanov', 'start': -1, 'end': 9},\n",
              "  {'label': 'character', 'text': 'Trilby', 'start': 54, 'end': 60},\n",
              "  {'label': 'character', 'text': 'Miranda', 'start': 301, 'end': 308},\n",
              "  {'label': 'character', 'text': 'Trilby', 'start': 54, 'end': 60}]]"
            ]
          },
          "metadata": {},
          "execution_count": 6
        }
      ]
    }
  ]
}